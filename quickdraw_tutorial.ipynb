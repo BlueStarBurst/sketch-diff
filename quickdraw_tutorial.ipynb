{
 "cells": [
  {
   "cell_type": "code",
   "execution_count": 3,
   "id": "d665812e-e1b6-415d-91f3-258526254b19",
   "metadata": {
    "tags": []
   },
   "outputs": [
    {
     "name": "stdout",
     "output_type": "stream",
     "text": [
      "Requirement already satisfied: datasets in c:\\users\\texas\\.pyenv\\pyenv-win\\versions\\3.8.10\\lib\\site-packages (2.10.1)\n",
      "Requirement already satisfied: dill<0.3.7,>=0.3.0 in c:\\users\\texas\\.pyenv\\pyenv-win\\versions\\3.8.10\\lib\\site-packages (from datasets) (0.3.6)\n",
      "Requirement already satisfied: huggingface-hub<1.0.0,>=0.2.0 in c:\\users\\texas\\.pyenv\\pyenv-win\\versions\\3.8.10\\lib\\site-packages (from datasets) (0.13.2)\n",
      "Requirement already satisfied: pandas in c:\\users\\texas\\.pyenv\\pyenv-win\\versions\\3.8.10\\lib\\site-packages (from datasets) (1.5.3)\n",
      "Requirement already satisfied: packaging in c:\\users\\texas\\.pyenv\\pyenv-win\\versions\\3.8.10\\lib\\site-packages (from datasets) (23.0)\n",
      "Requirement already satisfied: numpy>=1.17 in c:\\users\\texas\\.pyenv\\pyenv-win\\versions\\3.8.10\\lib\\site-packages (from datasets) (1.23.5)\n",
      "Requirement already satisfied: pyarrow>=6.0.0 in c:\\users\\texas\\.pyenv\\pyenv-win\\versions\\3.8.10\\lib\\site-packages (from datasets) (11.0.0)\n",
      "Requirement already satisfied: tqdm>=4.62.1 in c:\\users\\texas\\.pyenv\\pyenv-win\\versions\\3.8.10\\lib\\site-packages (from datasets) (4.64.1)\n",
      "Requirement already satisfied: fsspec[http]>=2021.11.1 in c:\\users\\texas\\.pyenv\\pyenv-win\\versions\\3.8.10\\lib\\site-packages (from datasets) (2023.3.0)\n",
      "Requirement already satisfied: aiohttp in c:\\users\\texas\\.pyenv\\pyenv-win\\versions\\3.8.10\\lib\\site-packages (from datasets) (3.8.4)\n",
      "Requirement already satisfied: responses<0.19 in c:\\users\\texas\\.pyenv\\pyenv-win\\versions\\3.8.10\\lib\\site-packages (from datasets) (0.18.0)\n",
      "Requirement already satisfied: xxhash in c:\\users\\texas\\.pyenv\\pyenv-win\\versions\\3.8.10\\lib\\site-packages (from datasets) (3.2.0)\n",
      "Requirement already satisfied: requests>=2.19.0 in c:\\users\\texas\\.pyenv\\pyenv-win\\versions\\3.8.10\\lib\\site-packages (from datasets) (2.28.2)\n",
      "Requirement already satisfied: multiprocess in c:\\users\\texas\\.pyenv\\pyenv-win\\versions\\3.8.10\\lib\\site-packages (from datasets) (0.70.14)\n",
      "Requirement already satisfied: pyyaml>=5.1 in c:\\users\\texas\\.pyenv\\pyenv-win\\versions\\3.8.10\\lib\\site-packages (from datasets) (6.0)\n",
      "Requirement already satisfied: multidict<7.0,>=4.5 in c:\\users\\texas\\.pyenv\\pyenv-win\\versions\\3.8.10\\lib\\site-packages (from aiohttp->datasets) (6.0.4)\n",
      "Requirement already satisfied: aiosignal>=1.1.2 in c:\\users\\texas\\.pyenv\\pyenv-win\\versions\\3.8.10\\lib\\site-packages (from aiohttp->datasets) (1.3.1)\n",
      "Requirement already satisfied: yarl<2.0,>=1.0 in c:\\users\\texas\\.pyenv\\pyenv-win\\versions\\3.8.10\\lib\\site-packages (from aiohttp->datasets) (1.8.2)\n",
      "Requirement already satisfied: charset-normalizer<4.0,>=2.0 in c:\\users\\texas\\.pyenv\\pyenv-win\\versions\\3.8.10\\lib\\site-packages (from aiohttp->datasets) (3.0.1)\n",
      "Requirement already satisfied: frozenlist>=1.1.1 in c:\\users\\texas\\.pyenv\\pyenv-win\\versions\\3.8.10\\lib\\site-packages (from aiohttp->datasets) (1.3.3)\n",
      "Requirement already satisfied: attrs>=17.3.0 in c:\\users\\texas\\.pyenv\\pyenv-win\\versions\\3.8.10\\lib\\site-packages (from aiohttp->datasets) (22.2.0)\n",
      "Requirement already satisfied: async-timeout<5.0,>=4.0.0a3 in c:\\users\\texas\\.pyenv\\pyenv-win\\versions\\3.8.10\\lib\\site-packages (from aiohttp->datasets) (4.0.2)\n",
      "Requirement already satisfied: typing-extensions>=3.7.4.3 in c:\\users\\texas\\.pyenv\\pyenv-win\\versions\\3.8.10\\lib\\site-packages (from huggingface-hub<1.0.0,>=0.2.0->datasets) (4.5.0)\n",
      "Requirement already satisfied: filelock in c:\\users\\texas\\.pyenv\\pyenv-win\\versions\\3.8.10\\lib\\site-packages (from huggingface-hub<1.0.0,>=0.2.0->datasets) (3.9.0)\n",
      "Requirement already satisfied: certifi>=2017.4.17 in c:\\users\\texas\\.pyenv\\pyenv-win\\versions\\3.8.10\\lib\\site-packages (from requests>=2.19.0->datasets) (2022.12.7)\n",
      "Requirement already satisfied: idna<4,>=2.5 in c:\\users\\texas\\.pyenv\\pyenv-win\\versions\\3.8.10\\lib\\site-packages (from requests>=2.19.0->datasets) (3.4)\n",
      "Requirement already satisfied: urllib3<1.27,>=1.21.1 in c:\\users\\texas\\.pyenv\\pyenv-win\\versions\\3.8.10\\lib\\site-packages (from requests>=2.19.0->datasets) (1.26.14)\n",
      "Requirement already satisfied: colorama in c:\\users\\texas\\.pyenv\\pyenv-win\\versions\\3.8.10\\lib\\site-packages (from tqdm>=4.62.1->datasets) (0.4.6)\n",
      "Requirement already satisfied: python-dateutil>=2.8.1 in c:\\users\\texas\\.pyenv\\pyenv-win\\versions\\3.8.10\\lib\\site-packages (from pandas->datasets) (2.8.2)\n",
      "Requirement already satisfied: pytz>=2020.1 in c:\\users\\texas\\.pyenv\\pyenv-win\\versions\\3.8.10\\lib\\site-packages (from pandas->datasets) (2022.7.1)\n",
      "Requirement already satisfied: six>=1.5 in c:\\users\\texas\\.pyenv\\pyenv-win\\versions\\3.8.10\\lib\\site-packages (from python-dateutil>=2.8.1->pandas->datasets) (1.16.0)\n",
      "Note: you may need to restart the kernel to use updated packages.\n"
     ]
    },
    {
     "name": "stderr",
     "output_type": "stream",
     "text": [
      "WARNING: You are using pip version 21.1.1; however, version 23.0.1 is available.\n",
      "You should consider upgrading via the 'c:\\Users\\texas\\.pyenv\\pyenv-win\\versions\\3.8.10\\python.exe -m pip install --upgrade pip' command.\n"
     ]
    }
   ],
   "source": [
    "pip install datasets"
   ]
  },
  {
   "cell_type": "code",
   "execution_count": 13,
   "id": "161bead8",
   "metadata": {},
   "outputs": [
    {
     "name": "stdout",
     "output_type": "stream",
     "text": [
      "(403410,)\n"
     ]
    }
   ],
   "source": [
    "# x_train = np.array([str(dataset['train'][i]['packed_drawing']) for i in range(len(dataset['train']))])\n",
    "x_temp = np.array([dataset['train'][i]['packed_drawing'] for i in range(len(dataset['train']))])\n",
    "y_temp = np.array([dataset['train'][i]['label'] for i in range(len(dataset['train']))])\n",
    "\n",
    "print(x_temp.shape)\n",
    "\n",
    "# randomize the data\n",
    "p = np.random.permutation(len(x_temp))\n",
    "x_temp = x_temp[p]\n",
    "y_temp = y_temp[p]\n",
    "\n",
    "# only use a thousand samples for now\n",
    "# x_temp = x_temp[:10000]\n",
    "# y_temp = y_temp[:10000]\n",
    "\n",
    "# testing temp"
   ]
  }
 ],
 "metadata": {
  "kernelspec": {
   "display_name": "Python 3",
   "language": "python",
   "name": "python3"
  },
  "language_info": {
   "codemirror_mode": {
    "name": "ipython",
    "version": 3
   },
   "file_extension": ".py",
   "mimetype": "text/x-python",
   "name": "python",
   "nbconvert_exporter": "python",
   "pygments_lexer": "ipython3",
   "version": "3.8.10"
  }
 },
 "nbformat": 4,
 "nbformat_minor": 5
}
